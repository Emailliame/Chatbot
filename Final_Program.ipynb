{
 "cells": [
  {
   "cell_type": "code",
   "execution_count": null,
   "metadata": {},
   "outputs": [],
   "source": [
    "#User_Introduction\n",
    "bot_format = \"TANU : {bot} \"\n",
    "user_format = \"{user} :\"\n",
    "name_user = \"\""
   ]
  },
  {
   "cell_type": "code",
   "execution_count": null,
   "metadata": {},
   "outputs": [],
   "source": [
    "def RepresentsInt(s):\n",
    "    try: \n",
    "        int(s)\n",
    "        return True\n",
    "    except ValueError:\n",
    "        return False"
   ]
  },
  {
   "cell_type": "code",
   "execution_count": null,
   "metadata": {
    "scrolled": true
   },
   "outputs": [],
   "source": [
    "txt = \"Hi ,My name is TANU. What is your Name ?\"\n",
    "print(\"\\n\")\n",
    "print(bot_format.format(bot = txt))\n",
    "print(\"YOU :\",end = \" \")\n",
    "name_user = input()\n",
    "%store name_user\n",
    "print(bot_format.format(bot = \"What I do for you - \"))\n",
    "\n",
    "while 1:\n",
    "    print(bot_format.format(bot = \"1. Want to check Disease\"))\n",
    "    print(\"     : 2. Ask question\")\n",
    "    print(\"     : 3 to exit\")\n",
    "    print(user_format.format(user = name_user),end = \" \")\n",
    "    number = input()\n",
    "    if RepresentsInt(number):\n",
    "        number = int(number)\n",
    "        if number == 1:\n",
    "            print('\\n')\n",
    "            %run Symptom_checker.ipynb\n",
    "        elif number == 2:\n",
    "            print('\\n')\n",
    "            %run Faq_Chatbot.ipynb\n",
    "        elif number == 3:\n",
    "            break\n",
    "        else:\n",
    "            print(bot_format.format(bot = \"Enter valid number otherwise type 3 to exit\"))\n",
    "    else:\n",
    "        print(bot_format.format(bot = \"Enter valid number otherwise type 3 to exit\"))"
   ]
  },
  {
   "cell_type": "code",
   "execution_count": null,
   "metadata": {},
   "outputs": [],
   "source": []
  }
 ],
 "metadata": {
  "kernelspec": {
   "display_name": "Python 3",
   "language": "python",
   "name": "python3"
  },
  "language_info": {
   "codemirror_mode": {
    "name": "ipython",
    "version": 3
   },
   "file_extension": ".py",
   "mimetype": "text/x-python",
   "name": "python",
   "nbconvert_exporter": "python",
   "pygments_lexer": "ipython3",
   "version": "3.7.4"
  }
 },
 "nbformat": 4,
 "nbformat_minor": 2
}
