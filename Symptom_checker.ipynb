{
 "cells": [
  {
   "cell_type": "code",
   "execution_count": 1,
   "metadata": {},
   "outputs": [],
   "source": [
    "import pandas as pd\n",
    "from sklearn import preprocessing\n",
    "from sklearn.tree import DecisionTreeClassifier,_tree\n",
    "import numpy as np\n",
    "from sklearn.model_selection import train_test_split\n",
    "import warnings\n",
    "\n",
    "warnings.filterwarnings(\"ignore\", category=DeprecationWarning)"
   ]
  },
  {
   "cell_type": "code",
   "execution_count": 2,
   "metadata": {},
   "outputs": [],
   "source": [
    "from sklearn.model_selection import cross_val_score"
   ]
  },
  {
   "cell_type": "code",
   "execution_count": 3,
   "metadata": {},
   "outputs": [],
   "source": [
    "training = pd.read_csv('https://raw.githubusercontent.com/vsharathchandra/AI-Healthcare-chatbot/master/Training.csv')\n",
    "testing  = pd.read_csv('https://raw.githubusercontent.com/vsharathchandra/AI-Healthcare-chatbot/master/Testing.csv')"
   ]
  },
  {
   "cell_type": "code",
   "execution_count": 4,
   "metadata": {},
   "outputs": [],
   "source": [
    "cols = training.columns\n",
    "cols = cols[:-1]\n",
    "x    = training[cols]\n",
    "y = training['prognosis']\n",
    "y1 = y"
   ]
  },
  {
   "cell_type": "markdown",
   "metadata": {},
   "source": [
    "cols"
   ]
  },
  {
   "cell_type": "code",
   "execution_count": 5,
   "metadata": {},
   "outputs": [],
   "source": [
    "reduced_data = training.groupby(training['prognosis']).max()\n",
    "#reduced_data"
   ]
  },
  {
   "cell_type": "code",
   "execution_count": 6,
   "metadata": {},
   "outputs": [],
   "source": [
    "#mapping strings to numbers\n",
    "le = preprocessing.LabelEncoder()\n",
    "y = le.fit_transform(y)\n"
   ]
  },
  {
   "cell_type": "code",
   "execution_count": 7,
   "metadata": {},
   "outputs": [],
   "source": [
    "x_train,x_test,y_train,y_test = train_test_split(x,y,test_size=0.33,random_state=42)\n",
    "testx    = testing[cols]\n",
    "testy    = testing['prognosis'] \n",
    "testy   = le.transform(testy)"
   ]
  },
  {
   "cell_type": "raw",
   "metadata": {},
   "source": [
    "testy"
   ]
  },
  {
   "cell_type": "code",
   "execution_count": 8,
   "metadata": {},
   "outputs": [],
   "source": [
    "clf1 = DecisionTreeClassifier()\n",
    "clf = clf1.fit(x_train,y_train)\n",
    "#print(clf.score(x_train,y_train))\n",
    "#print(\"cross result==========\")\n",
    "scores = cross_val_score(clf,x_test,y_test,cv=3)\n",
    "#print(scores)\n",
    "#print(scores.mean())\n",
    "#print(cross_val_score(clf,x_test,y_test,cv=3).mean())"
   ]
  },
  {
   "cell_type": "code",
   "execution_count": 9,
   "metadata": {},
   "outputs": [],
   "source": [
    "importance = clf.feature_importances_\n",
    "indices = np.argsort(importance)[::-1]\n",
    "features = cols"
   ]
  },
  {
   "cell_type": "markdown",
   "metadata": {},
   "source": [
    "indices"
   ]
  },
  {
   "cell_type": "raw",
   "metadata": {},
   "source": [
    "\n",
    "for f in range(132):\n",
    "    print(\"%d. feature %d - %s (%f)\" %(f+1,indices[f],features[indices[f]],importance\n",
    "                                       [indices[f]]))"
   ]
  },
  {
   "cell_type": "code",
   "execution_count": 10,
   "metadata": {},
   "outputs": [
    {
     "name": "stdout",
     "output_type": "stream",
     "text": [
      "Symptom 1 -  muscle_pain\n",
      "Symptom 2 -  loss_of_appetite\n",
      "Symptom 3 -  throat_irritation\n",
      "Symptom 4 -  internal_itching\n",
      "Symptom 5 -  hip_joint_pain\n",
      "Symptom 6 -  increased_appetite\n",
      "Symptom 7 -  silver_like_dusting\n",
      "Symptom 8 -  enlarged_thyroid\n",
      "Symptom 9 -  blood_in_sputum\n",
      "Symptom 10 -  yellow_crust_ooze\n",
      "Symptom 11 -  nodal_skin_eruptions\n",
      "Symptom 12 -  unsteadiness\n",
      "Symptom 13 -  abnormal_menstruation\n",
      "Symptom 14 -  weight_loss\n",
      "Symptom 15 -  nausea\n",
      "Symptom 16 -  fluid_overload.1\n",
      "Symptom 17 -  prominent_veins_on_calf\n",
      "Symptom 18 -  depression\n",
      "Symptom 19 -  lack_of_concentration\n",
      "Symptom 20 -  mild_fever\n",
      "Symptom 21 -  neck_pain\n",
      "Symptom 22 -  altered_sensorium\n",
      "Symptom 23 -  slurred_speech\n",
      "Symptom 24 -  movement_stiffness\n",
      "Symptom 25 -  shivering\n",
      "Symptom 26 -  belly_pain\n",
      "Symptom 27 -  continuous_feel_of_urine\n",
      "Symptom 28 -  itching\n",
      "Symptom 29 -  rusty_sputum\n",
      "Symptom 30 -  receiving_unsterile_injections\n",
      "Symptom 31 -  patches_in_throat\n",
      "Symptom 32 -  dark_urine\n",
      "Symptom 33 -  family_history\n",
      "Symptom 34 -  stomach_pain\n",
      "Symptom 35 -  stomach_bleeding\n",
      "Symptom 36 -  pus_filled_pimples\n",
      "Symptom 37 -  bloody_stool\n",
      "Symptom 38 -  sunken_eyes\n",
      "Symptom 39 -  breathlessness\n",
      "Symptom 40 -  dischromic _patches\n",
      "Symptom 41 -  yellowish_skin\n",
      "Symptom 42 -  skin_rash\n",
      "Symptom 43 -  swelling_joints\n",
      "Symptom 44 -  continuous_sneezing\n",
      "Symptom 45 -  dehydration\n",
      "Symptom 46 -  blackheads\n",
      "Symptom 47 -  sweating\n",
      "Symptom 48 -  joint_pain\n",
      "Symptom 49 -  extra_marital_contacts\n",
      "Symptom 50 -  red_spots_over_body\n",
      "Symptom 51 -  weakness_of_one_body_side\n",
      "Symptom 52 -  yellowing_of_eyes\n",
      "Symptom 53 -  chest_pain\n",
      "Symptom 54 -  abdominal_pain\n",
      "Symptom 55 -  burning_micturition\n",
      "Symptom 56 -  toxic_look_(typhos)\n",
      "Symptom 57 -  blister\n",
      "Symptom 58 -  cough\n",
      "Symptom 59 -  spinning_movements\n",
      "Symptom 60 -  dizziness\n",
      "Symptom 61 -  vomiting\n",
      "Symptom 62 -  irritation_in_anus\n",
      "Symptom 63 -  excessive_hunger\n",
      "Symptom 64 -  obesity\n",
      "Symptom 65 -  scurring\n",
      "Symptom 66 -  pain_behind_the_eyes\n",
      "Symptom 67 -  indigestion\n",
      "Symptom 68 -  back_pain\n",
      "Symptom 69 -  skin_peeling\n",
      "Symptom 70 -  constipation\n",
      "Symptom 71 -  diarrhoea\n",
      "Symptom 72 -  chills\n",
      "Symptom 73 -  headache\n",
      "Symptom 74 -  inflammatory_nails\n",
      "Symptom 75 -  fatigue\n",
      "Symptom 76 -  acidity\n",
      "Symptom 77 -  ulcers_on_tongue\n",
      "Symptom 78 -  muscle_wasting\n",
      "Symptom 79 -  weight_gain\n",
      "Symptom 80 -  high_fever\n",
      "Symptom 81 -  irregular_sugar_level\n",
      "Symptom 82 -  lethargy\n",
      "Symptom 83 -  restlessness\n",
      "Symptom 84 -  small_dents_in_nails\n",
      "Symptom 85 -  yellow_urine\n",
      "Symptom 86 -  spotting_ urination\n",
      "Symptom 87 -  cold_hands_and_feets\n",
      "Symptom 88 -  anxiety\n",
      "Symptom 89 -  mood_swings\n",
      "Symptom 90 -  watering_from_eyes\n",
      "Symptom 91 -  acute_liver_failure\n",
      "Symptom 92 -  coma\n",
      "Symptom 93 -  swollen_extremeties\n",
      "Symptom 94 -  drying_and_tingling_lips\n",
      "Symptom 95 -  history_of_alcohol_consumption\n",
      "Symptom 96 -  knee_pain\n",
      "Symptom 97 -  distention_of_abdomen\n",
      "Symptom 98 -  muscle_weakness\n",
      "Symptom 99 -  stiff_neck\n",
      "Symptom 100 -  loss_of_balance\n",
      "Symptom 101 -  loss_of_smell\n",
      "Symptom 102 -  fluid_overload\n",
      "Symptom 103 -  bladder_discomfort\n",
      "Symptom 104 -  foul_smell_of urine\n",
      "Symptom 105 -  passage_of_gases\n",
      "Symptom 106 -  receiving_blood_transfusion\n",
      "Symptom 107 -  visual_disturbances\n",
      "Symptom 108 -  irritability\n",
      "Symptom 109 -  mucoid_sputum\n",
      "Symptom 110 -  polyuria\n",
      "Symptom 111 -  brittle_nails\n",
      "Symptom 112 -  palpitations\n",
      "Symptom 113 -  puffy_face_and_eyes\n",
      "Symptom 114 -  swollen_blood_vessels\n",
      "Symptom 115 -  swelling_of_stomach\n",
      "Symptom 116 -  swelled_lymph_nodes\n",
      "Symptom 117 -  malaise\n",
      "Symptom 118 -  blurred_and_distorted_vision\n",
      "Symptom 119 -  phlegm\n",
      "Symptom 120 -  redness_of_eyes\n",
      "Symptom 121 -  sinus_pressure\n",
      "Symptom 122 -  runny_nose\n",
      "Symptom 123 -  congestion\n",
      "Symptom 124 -  weakness_in_limbs\n",
      "Symptom 125 -  fast_heart_rate\n",
      "Symptom 126 -  pain_during_bowel_movements\n",
      "Symptom 127 -  pain_in_anal_region\n",
      "Symptom 128 -  painful_walking\n",
      "Symptom 129 -  red_sore_around_nose\n",
      "Symptom 130 -  bruising\n",
      "Symptom 131 -  swollen_legs\n",
      "Symptom 132 -  cramps\n",
      "\n",
      "\n"
     ]
    }
   ],
   "source": [
    "Symptom_list = []\n",
    "for f in range(132):\n",
    "    print(\"Symptom %d -  %s\" %(f+1,features[indices[f]]))\n",
    "    Symptom_list.append(features[indices[f]])\n",
    "print('\\n')"
   ]
  },
  {
   "cell_type": "code",
   "execution_count": 11,
   "metadata": {},
   "outputs": [],
   "source": [
    "#User_Introduction\n",
    "bot_format = \"TANU : {bot} \"\n",
    "user_format = \"{user} :\"\n",
    "n = \"\""
   ]
  },
  {
   "cell_type": "code",
   "execution_count": 12,
   "metadata": {},
   "outputs": [],
   "source": [
    "#Symptoms_By_User\n",
    "sym = []\n",
    "user_symptom = []\n"
   ]
  },
  {
   "cell_type": "code",
   "execution_count": 13,
   "metadata": {
    "scrolled": true
   },
   "outputs": [],
   "source": [
    "def disease_input_by_user():\n",
    "    sym.clear()\n",
    "    user_symptom.clear()\n",
    "    print(bot_format.format(bot = \"Please give your major symptoms you feeling which help me to predict Disease.\"))\n",
    "    print(bot_format.format(bot = \"NO to finish :- \"))\n",
    "    txt = \"more\"\n",
    "    i =1\n",
    "    while 1:\n",
    "        if i!= 1:\n",
    "            print(bot_format.format(bot = \"MORE symptoms ?\"))\n",
    "        print(user_format.format(user = n), end = \" \")\n",
    "        symptom_feel = input()\n",
    "        if symptom_feel.lower() == 'no':\n",
    "            break\n",
    "        if symptom_feel not in Symptom_list:\n",
    "            print(bot_format.format(bot = \"Please Enter Valid Symptom -\"))\n",
    "        else:\n",
    "            sym.append(symptom_feel.lower())\n",
    "        i = i+1\n",
    "    for f in range(132):\n",
    "        if(features[indices[f]] in sym):\n",
    "            user_symptom.append(indices[f])"
   ]
  },
  {
   "cell_type": "code",
   "execution_count": 14,
   "metadata": {},
   "outputs": [],
   "source": [
    "def print_disease(node):\n",
    "    #print(node[0])\n",
    "    node = node[0]\n",
    "    #print(len(node))\n",
    "    val  = node.nonzero() \n",
    "    #print(val)\n",
    "    disease = le.inverse_transform(val[0])\n",
    "    return disease"
   ]
  },
  {
   "cell_type": "code",
   "execution_count": 15,
   "metadata": {},
   "outputs": [],
   "source": [
    "def tree_for_code():\n",
    "    disease_input_by_user()\n",
    "    tree_ = clf.tree_\n",
    "    feature_name = [\n",
    "    cols[i] if i != _tree.TREE_UNDEFINED else \"undefined!\" \n",
    "        for i in tree_.feature\n",
    "    ]\n",
    "    symptoms_present = []\n",
    "    node = 0\n",
    "    depth = 1\n",
    "    status = 0\n",
    "    def check_user(node,depth):\n",
    "        if tree_.feature[node] != _tree.TREE_UNDEFINED:\n",
    "            name = feature_name[node]\n",
    "            threshold = tree_.threshold[node]\n",
    "            a = np.array(user_symptom)\n",
    "            if (tree_.feature[node] in a) :\n",
    "                val = 1\n",
    "            else:\n",
    "                txt = \"Please reply Yes or No for the following symptoms -\"\n",
    "                print(bot_format.format(bot = txt))\n",
    "                print(bot_format.format(bot = name + \"?\"))\n",
    "                print(user_format.format(user = n),end = \" \")\n",
    "                ans = input()\n",
    "                ans = ans.lower()\n",
    "            if ans == 'yes':\n",
    "                val = 1\n",
    "            else:\n",
    "                val = 0\n",
    "            if  val <= threshold:\n",
    "                check_user(tree_.children_left[node], depth + 1)\n",
    "            else:\n",
    "                symptoms_present.append(name)\n",
    "                check_user(tree_.children_right[node], depth + 1)\n",
    "        else:\n",
    "            #print(tree_.value,len(tree_.value))\n",
    "            present_disease = print_disease(tree_.value[node])\n",
    "            print( bot_format.format(bot = (\"You may have \" +  present_disease)))\n",
    "            red_cols = reduced_data.columns \n",
    "            symptoms_given = red_cols[reduced_data.loc[present_disease].values[0].nonzero()]\n",
    "            print(bot_format.format(bot = (\"symptoms present  \" + str(list(symptoms_present)))))\n",
    "            print(bot_format.format(bot = (\"symptoms given \"  +  str(list(symptoms_given)) ) )) \n",
    "            confidence_level = (1.0*len(symptoms_present))/len(symptoms_given)\n",
    "            #print(bot_format.format(bot = (\"confidence level is \" + str(confidence_level))))\n",
    "                    \n",
    "    for user_recent in user_symptom:\n",
    "        if(status == 1):\n",
    "            break\n",
    "        user_importance = importance[user_recent]\n",
    "        while 1:\n",
    "            if tree_.feature[node] != _tree.TREE_UNDEFINED:\n",
    "                g = importance[tree_.feature[node]]\n",
    "                m = user_importance\n",
    "                if importance[tree_.feature[node]] == user_importance:\n",
    "                    name = feature_name[node]\n",
    "                    symptoms_present.append(name)\n",
    "                    check_user(tree_.children_right[node],depth+1)\n",
    "                    status = 1\n",
    "                    break\n",
    "                node = node+1\n",
    "                depth = depth+1\n",
    "            else:\n",
    "                break\n",
    "                        \n",
    "    if status == 0:\n",
    "        print(bot_format.format(bot = \"Sorry for Inconvience ! But unable to identify disease by given Symptoms.\"))\n",
    "        print(bot_format.format(bot = \"Please contact to Doctor\"))\n",
    "            "
   ]
  },
  {
   "cell_type": "code",
   "execution_count": 16,
   "metadata": {},
   "outputs": [
    {
     "name": "stdout",
     "output_type": "stream",
     "text": [
      "TANU : Please give your major symptoms you feeling which help me to predict Disease. \n",
      "TANU : NO to finish :-  \n",
      "Nandini : no\n",
      "TANU : Sorry for Inconvience ! But unable to identify disease by given Symptoms. \n",
      "TANU : Please contact to Doctor \n"
     ]
    }
   ],
   "source": [
    "%store -r name_user\n",
    "n = name_user\n",
    "tree_for_code()"
   ]
  },
  {
   "cell_type": "code",
   "execution_count": null,
   "metadata": {},
   "outputs": [],
   "source": []
  }
 ],
 "metadata": {
  "kernelspec": {
   "display_name": "Python 3",
   "language": "python",
   "name": "python3"
  },
  "language_info": {
   "codemirror_mode": {
    "name": "ipython",
    "version": 3
   },
   "file_extension": ".py",
   "mimetype": "text/x-python",
   "name": "python",
   "nbconvert_exporter": "python",
   "pygments_lexer": "ipython3",
   "version": "3.7.4"
  }
 },
 "nbformat": 4,
 "nbformat_minor": 2
}
