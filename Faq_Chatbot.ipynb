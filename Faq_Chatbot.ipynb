{
 "cells": [
  {
   "cell_type": "code",
   "execution_count": 1,
   "metadata": {},
   "outputs": [],
   "source": [
    "from newspaper import Article\n",
    "import random\n",
    "import string\n",
    "from sklearn.feature_extraction.text import TfidfVectorizer\n",
    "from sklearn.metrics.pairwise import cosine_similarity\n",
    "import nltk\n",
    "import numpy as np\n",
    "import warnings"
   ]
  },
  {
   "cell_type": "code",
   "execution_count": 2,
   "metadata": {},
   "outputs": [],
   "source": [
    "#Ignore any warning messages\n",
    "warnings.filterwarnings('ignore')"
   ]
  },
  {
   "cell_type": "code",
   "execution_count": 3,
   "metadata": {},
   "outputs": [
    {
     "data": {
      "text/plain": [
       "True"
      ]
     },
     "execution_count": 3,
     "metadata": {},
     "output_type": "execute_result"
    }
   ],
   "source": [
    "#Download the packages from NLTK\n",
    "nltk.download('punkt',quiet = True)\n",
    "nltk.download('wordnet',quiet = True)"
   ]
  },
  {
   "cell_type": "code",
   "execution_count": 4,
   "metadata": {},
   "outputs": [],
   "source": [
    "remove_punct_dict = {}\n",
    "sent_tokens = []"
   ]
  },
  {
   "cell_type": "code",
   "execution_count": 5,
   "metadata": {},
   "outputs": [],
   "source": [
    "def question(url):\n",
    "    #Get the article URL\n",
    "    article  = Article(url)\n",
    "    article.download()\n",
    "    article.parse()\n",
    "    article.nlp()\n",
    "    corpus = article.text\n",
    "    text = corpus\n",
    "    sent_tokens = nltk.sent_tokenize(text) #txt to a list of sentences\n",
    "    #Create a dictionary (key:value pair) to remove punctuations\n",
    "    remove_punct_dict  =dict( (ord(punct), None) for punct in string.punctuation)\n",
    "    return sent_tokens\n",
    "    \n",
    "   "
   ]
  },
  {
   "cell_type": "code",
   "execution_count": 6,
   "metadata": {},
   "outputs": [],
   "source": [
    "def LemNormalize(text) :\n",
    "        return nltk.word_tokenize(text.lower().translate(remove_punct_dict))"
   ]
  },
  {
   "cell_type": "code",
   "execution_count": 7,
   "metadata": {},
   "outputs": [],
   "source": [
    " # Generating response\n",
    "def response(user_response):\n",
    "    robo_response='' #Create an empty response for the bot\n",
    "    sent_tokens.append(user_response) #Append the users response to the list of sentence tokens\n",
    "    TfidfVec = TfidfVectorizer(tokenizer=LemNormalize, stop_words='english') \n",
    "    tfidf = TfidfVec.fit_transform(sent_tokens)\n",
    "    vals = cosine_similarity(tfidf[-1], tfidf)\n",
    "\n",
    "    \n",
    "    i = -2\n",
    "    while 1:\n",
    "        idx=vals.argsort()[0][i]\n",
    "        flat = vals.flatten()\n",
    "        flat.sort()\n",
    "        score = flat[i]\n",
    "        if score != 0 and i == -2:\n",
    "            robo_response = robo_response+sent_tokens[idx]\n",
    "            \n",
    "        elif score==0 and i == -2:\n",
    "            robo_response=robo_response+\"I apologize, I don't understand.\"\n",
    "            \n",
    "        elif (score < 0.2):\n",
    "            break\n",
    "        else:\n",
    "            robo_response = robo_response+sent_tokens[idx]\n",
    "        i = i-1\n",
    "        \n",
    "    sent_tokens.remove(user_response) \n",
    "    return robo_response"
   ]
  },
  {
   "cell_type": "code",
   "execution_count": 8,
   "metadata": {},
   "outputs": [],
   "source": [
    "#User_Introduction\n",
    "bot_format = \"TANU : {bot} \"\n",
    "user_format = \"{user} : \""
   ]
  },
  {
   "cell_type": "code",
   "execution_count": 9,
   "metadata": {},
   "outputs": [],
   "source": [
    "#Keyword Matching\n",
    "\n",
    "#greeting input from the user\n",
    "GREETING_INPUTS = [\"hi\" , \"hello\" , \"hola\" , \"greeting\" , \"whatsapp\" , \"hey\"]\n",
    "#greeting responses back to the user\n",
    "GREETING_RESPONSES = [\"howdy\" , \"hi\" , \"hey\" , \"what's good\" , \"hello\" , \"hey there\"]\n",
    "\n",
    "#function to return a random greeting response to a users greeting\n",
    "def greeting(sentence):\n",
    "    for word in sentence.split():\n",
    "        if word.lower() in GREETING_INPUTS:\n",
    "            return random.choice(GREETING_RESPONSES)"
   ]
  },
  {
   "cell_type": "code",
   "execution_count": 10,
   "metadata": {},
   "outputs": [],
   "source": [
    "%store -r name_user\n",
    "n = name_user"
   ]
  },
  {
   "cell_type": "code",
   "execution_count": 11,
   "metadata": {},
   "outputs": [],
   "source": [
    "list_urls = [\n",
    "        'https://www.mayoclinic.org/diseases-conditions/heart-disease/symptoms-causes/syc-20353118?p=1',\n",
    "        'https://www.narayanahealth.org/blog/respiratory-diseases-causes-symptoms-preventive-measures/',\n",
    "        'https://www.mayoclinic.org/diseases-conditions/tuberculosis/symptoms-causes/syc-20351250?p=1',\n",
    "        'https://www.mayoclinic.org/diseases-conditions/cancer/symptoms-causes/syc-20370588?utm_source=Google&utm_medium=abstract&utm_content=Cancer&utm_campaign=Knowledge-panel&p=1',\n",
    "        'https://www.nhs.uk/live-well/eat-well/common-digestive-problems-and-how-to-treat-them/',\n",
    "        'https://www.mayoclinic.org/diseases-conditions/malaria/symptoms-causes/syc-20351184?utm_source=Google&utm_medium=abstract&utm_content=Malaria&utm_campaign=Knowledge-panel&p=1',\n",
    "        'https://www.mayoclinic.org/diseases-conditions/diabetes/symptoms-causes/syc-20371444?utm_source=Google&utm_medium=abstract&utm_content=Diabetes-mellitus&utm_campaign=Knowledge-panel&p=1',\n",
    "        'https://www.mayoclinic.org/diseases-conditions/chronic-kidney-disease/symptoms-causes/syc-20354521?utm_source=Google&utm_medium=abstract&utm_content=Chronic-renal-failure&utm_campaign=Knowledge-panel&p=1',\n",
    "        'https://www.mayoclinic.org/diseases-conditions/depression/symptoms-causes/syc-20356007?utm_source=Google&utm_medium=abstract&utm_content=Major-depression&utm_campaign=Knowledge-panel&p=1',\n",
    "        'https://www.mayoclinic.org/diseases-conditions/coronavirus/symptoms-causes/syc-20479963?p=1'\n",
    "                \n",
    "    ]"
   ]
  },
  {
   "cell_type": "code",
   "execution_count": 12,
   "metadata": {},
   "outputs": [
    {
     "name": "stdout",
     "output_type": "stream",
     "text": [
      "TANU : I am TANU for short. I will answer your queries about Below Diseases.If you want to exit, type Bye! \n",
      "TANU : Select Disease, you want to know about :-  \n",
      "    : 1. Heart Disease\n",
      "    : 2. Respiratory Disease\n",
      "    : 3. TuberCulosis Disease\n",
      "    : 4. Cancer\n",
      "    : 5. Digestive Disease\n",
      "    : 6. Malaria\n",
      "    : 7. Diabetes\n",
      "    : 8. Chronic Kidney Disease\n",
      "    : 9. Depression\n",
      "    : 10. CoronaVirus(Covid-19)\n",
      "TANU : Input the following number \n",
      "Nandini :  2\n",
      "\n",
      "\n",
      "TANU : Ask Question and say 'bye' to exit-  \n",
      "Nandini :  bye\n",
      "DOCBot: Chat with you later !\n"
     ]
    }
   ],
   "source": [
    "flag  =True\n",
    "url = \"\"\n",
    "txt = \"I am TANU for short. I will answer your queries about Below Diseases.If you want to exit, type Bye!\"\n",
    "print(bot_format.format(bot = txt))\n",
    "print(bot_format.format(bot = \"Select Disease, you want to know about :- \"))\n",
    "print(\"    : 1. Heart Disease\")\n",
    "print(\"    : 2. Respiratory Disease\")\n",
    "print(\"    : 3. TuberCulosis Disease\")\n",
    "print(\"    : 4. Cancer\")\n",
    "print(\"    : 5. Digestive Disease\")\n",
    "print(\"    : 6. Malaria\")\n",
    "print(\"    : 7. Diabetes\")\n",
    "print(\"    : 8. Chronic Kidney Disease\")\n",
    "print(\"    : 9. Depression\")\n",
    "print(\"    : 10. CoronaVirus(Covid-19)\")\n",
    "print(bot_format.format(bot = \"Input the following number\"))\n",
    "print(user_format.format(user = n),end = \" \")\n",
    "num = int(input())\n",
    "if num not in range (1,11):\n",
    "    flag = False\n",
    "else:\n",
    "    url = list_urls[num-1]\n",
    "    sent_tokens = question(url)\n",
    "    \n",
    "while(flag == True):\n",
    "    print('\\n')\n",
    "    print(bot_format.format(bot = \"Ask Question and say 'bye' to exit- \"))\n",
    "    print(user_format.format(user = n),end = \" \")\n",
    "    user_response = input()\n",
    "    user_response = user_response.lower()\n",
    "    if(user_response != 'bye'):\n",
    "        if(user_response == 'thanks' or user_response == 'thankyou'):\n",
    "            flag = False\n",
    "            print(\"DOCBot: You're welcome !\")\n",
    "        else:\n",
    "            if(greeting(user_response)!= None):\n",
    "                print(\"DOCBot: \"+greeting(user_response))\n",
    "            else:\n",
    "                print(\"DOCBot: \"+response(user_response))\n",
    "    else:\n",
    "        flag=False\n",
    "        print(\"DOCBot: Chat with you later !\")"
   ]
  },
  {
   "cell_type": "code",
   "execution_count": null,
   "metadata": {},
   "outputs": [],
   "source": []
  }
 ],
 "metadata": {
  "kernelspec": {
   "display_name": "Python 3",
   "language": "python",
   "name": "python3"
  },
  "language_info": {
   "codemirror_mode": {
    "name": "ipython",
    "version": 3
   },
   "file_extension": ".py",
   "mimetype": "text/x-python",
   "name": "python",
   "nbconvert_exporter": "python",
   "pygments_lexer": "ipython3",
   "version": "3.7.4"
  }
 },
 "nbformat": 4,
 "nbformat_minor": 2
}
